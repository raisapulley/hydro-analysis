{
 "cells": [
  {
   "cell_type": "markdown",
   "id": "05aac3bc-5cef-4f83-afb0-f005c93103a8",
   "metadata": {},
   "source": [
    "#### Install and import the necessary libraries."
   ]
  },
  {
   "cell_type": "code",
   "execution_count": 1,
   "id": "f9519066-54ce-4f4c-9b14-a3be485a5837",
   "metadata": {},
   "outputs": [
    {
     "name": "stdout",
     "output_type": "stream",
     "text": [
      "Requirement already satisfied: pandas in c:\\users\\raisa\\appdata\\local\\programs\\python\\python313\\lib\\site-packages (2.3.1)\n",
      "Requirement already satisfied: matplotlib in c:\\users\\raisa\\appdata\\local\\programs\\python\\python313\\lib\\site-packages (3.10.3)\n",
      "Requirement already satisfied: numpy in c:\\users\\raisa\\appdata\\local\\programs\\python\\python313\\lib\\site-packages (2.2.6)\n",
      "Requirement already satisfied: python-dateutil>=2.8.2 in c:\\users\\raisa\\appdata\\local\\programs\\python\\python313\\lib\\site-packages (from pandas) (2.9.0.post0)\n",
      "Requirement already satisfied: pytz>=2020.1 in c:\\users\\raisa\\appdata\\local\\programs\\python\\python313\\lib\\site-packages (from pandas) (2025.2)\n",
      "Requirement already satisfied: tzdata>=2022.7 in c:\\users\\raisa\\appdata\\local\\programs\\python\\python313\\lib\\site-packages (from pandas) (2025.2)\n",
      "Requirement already satisfied: contourpy>=1.0.1 in c:\\users\\raisa\\appdata\\local\\programs\\python\\python313\\lib\\site-packages (from matplotlib) (1.3.2)\n",
      "Requirement already satisfied: cycler>=0.10 in c:\\users\\raisa\\appdata\\local\\programs\\python\\python313\\lib\\site-packages (from matplotlib) (0.12.1)\n",
      "Requirement already satisfied: fonttools>=4.22.0 in c:\\users\\raisa\\appdata\\local\\programs\\python\\python313\\lib\\site-packages (from matplotlib) (4.59.0)\n",
      "Requirement already satisfied: kiwisolver>=1.3.1 in c:\\users\\raisa\\appdata\\local\\programs\\python\\python313\\lib\\site-packages (from matplotlib) (1.4.8)\n",
      "Requirement already satisfied: packaging>=20.0 in c:\\users\\raisa\\appdata\\local\\programs\\python\\python313\\lib\\site-packages (from matplotlib) (25.0)\n",
      "Requirement already satisfied: pillow>=8 in c:\\users\\raisa\\appdata\\local\\programs\\python\\python313\\lib\\site-packages (from matplotlib) (11.3.0)\n",
      "Requirement already satisfied: pyparsing>=2.3.1 in c:\\users\\raisa\\appdata\\local\\programs\\python\\python313\\lib\\site-packages (from matplotlib) (3.2.3)\n",
      "Requirement already satisfied: six>=1.5 in c:\\users\\raisa\\appdata\\local\\programs\\python\\python313\\lib\\site-packages (from python-dateutil>=2.8.2->pandas) (1.17.0)\n",
      "Requirement already satisfied: hydroeval in c:\\users\\raisa\\appdata\\local\\programs\\python\\python313\\lib\\site-packages (0.1.0)\n",
      "Requirement already satisfied: HydroErr in c:\\users\\raisa\\appdata\\local\\programs\\python\\python313\\lib\\site-packages (1.24)\n",
      "Requirement already satisfied: numpy in c:\\users\\raisa\\appdata\\local\\programs\\python\\python313\\lib\\site-packages (from hydroeval) (2.2.6)\n",
      "Requirement already satisfied: scipy in c:\\users\\raisa\\appdata\\local\\programs\\python\\python313\\lib\\site-packages (from HydroErr) (1.16.0)\n"
     ]
    }
   ],
   "source": [
    "!pip install pandas matplotlib numpy \n",
    "!pip install hydroeval HydroErr"
   ]
  },
  {
   "cell_type": "code",
   "execution_count": 2,
   "id": "dc23c4a6-3c36-43af-9fbc-2bfe27524fbd",
   "metadata": {},
   "outputs": [],
   "source": [
    "import pandas as pd\n",
    "import matplotlib.pyplot as plt\n",
    "import numpy as np\n",
    "import hydroeval as hr\n",
    "import HydroErr as he"
   ]
  },
  {
   "cell_type": "code",
   "execution_count": 3,
   "id": "99df3dbd-abe2-451c-881d-acef7ba4a580",
   "metadata": {},
   "outputs": [],
   "source": [
    "file_path = '../Data/Planilha_DADOS.xlsx'  # Replace 'YOUR_FILE.xlsx' "
   ]
  },
  {
   "cell_type": "code",
   "execution_count": 4,
   "id": "8fb4d6e3-2d8a-4a7e-9d94-72b2ade51834",
   "metadata": {},
   "outputs": [
    {
     "name": "stdout",
     "output_type": "stream",
     "text": [
      "File found and loaded.\n",
      "<class 'pandas.core.frame.DataFrame'>\n",
      "RangeIndex: 8035 entries, 0 to 8034\n",
      "Data columns (total 12 columns):\n",
      " #   Column           Non-Null Count  Dtype         \n",
      "---  ------           --------------  -----         \n",
      " 0   Data             8035 non-null   datetime64[ns]\n",
      " 1   Th_baciaMenor    8035 non-null   float64       \n",
      " 2   CHIRPS           8035 non-null   float64       \n",
      " 3   Std_CH           8035 non-null   float64       \n",
      " 4   Mdna_CH          8035 non-null   float64       \n",
      " 5   TRMM             8035 non-null   float64       \n",
      " 6   Std_TR           8035 non-null   float64       \n",
      " 7   Mdna_TR          8035 non-null   float64       \n",
      " 8   MSWEP            8035 non-null   float64       \n",
      " 9   Std_MP           8035 non-null   float64       \n",
      " 10  Mdna_MP          8035 non-null   float64       \n",
      " 11  Pluv_baciaMenor  8035 non-null   float64       \n",
      "dtypes: datetime64[ns](1), float64(11)\n",
      "memory usage: 753.4 KB\n"
     ]
    },
    {
     "data": {
      "text/html": [
       "<div>\n",
       "<style scoped>\n",
       "    .dataframe tbody tr th:only-of-type {\n",
       "        vertical-align: middle;\n",
       "    }\n",
       "\n",
       "    .dataframe tbody tr th {\n",
       "        vertical-align: top;\n",
       "    }\n",
       "\n",
       "    .dataframe thead th {\n",
       "        text-align: right;\n",
       "    }\n",
       "</style>\n",
       "<table border=\"1\" class=\"dataframe\">\n",
       "  <thead>\n",
       "    <tr style=\"text-align: right;\">\n",
       "      <th></th>\n",
       "      <th>Data</th>\n",
       "      <th>Th_baciaMenor</th>\n",
       "      <th>CHIRPS</th>\n",
       "      <th>Std_CH</th>\n",
       "      <th>Mdna_CH</th>\n",
       "      <th>TRMM</th>\n",
       "      <th>Std_TR</th>\n",
       "      <th>Mdna_TR</th>\n",
       "      <th>MSWEP</th>\n",
       "      <th>Std_MP</th>\n",
       "      <th>Mdna_MP</th>\n",
       "      <th>Pluv_baciaMenor</th>\n",
       "    </tr>\n",
       "  </thead>\n",
       "  <tbody>\n",
       "    <tr>\n",
       "      <th>0</th>\n",
       "      <td>1998-01-01</td>\n",
       "      <td>0.000</td>\n",
       "      <td>0.000</td>\n",
       "      <td>0.000</td>\n",
       "      <td>0.0</td>\n",
       "      <td>0.006</td>\n",
       "      <td>0.021</td>\n",
       "      <td>0.000</td>\n",
       "      <td>0.313</td>\n",
       "      <td>0.416</td>\n",
       "      <td>0.125</td>\n",
       "      <td>0.0</td>\n",
       "    </tr>\n",
       "    <tr>\n",
       "      <th>1</th>\n",
       "      <td>1998-01-02</td>\n",
       "      <td>1.168</td>\n",
       "      <td>0.566</td>\n",
       "      <td>4.107</td>\n",
       "      <td>0.0</td>\n",
       "      <td>0.000</td>\n",
       "      <td>0.000</td>\n",
       "      <td>0.000</td>\n",
       "      <td>6.181</td>\n",
       "      <td>2.479</td>\n",
       "      <td>5.000</td>\n",
       "      <td>0.0</td>\n",
       "    </tr>\n",
       "    <tr>\n",
       "      <th>2</th>\n",
       "      <td>1998-01-03</td>\n",
       "      <td>36.618</td>\n",
       "      <td>6.430</td>\n",
       "      <td>11.981</td>\n",
       "      <td>0.0</td>\n",
       "      <td>4.902</td>\n",
       "      <td>1.779</td>\n",
       "      <td>3.627</td>\n",
       "      <td>18.319</td>\n",
       "      <td>14.690</td>\n",
       "      <td>10.625</td>\n",
       "      <td>44.4</td>\n",
       "    </tr>\n",
       "    <tr>\n",
       "      <th>3</th>\n",
       "      <td>1998-01-04</td>\n",
       "      <td>18.341</td>\n",
       "      <td>0.328</td>\n",
       "      <td>3.719</td>\n",
       "      <td>0.0</td>\n",
       "      <td>0.213</td>\n",
       "      <td>0.360</td>\n",
       "      <td>0.000</td>\n",
       "      <td>8.778</td>\n",
       "      <td>4.428</td>\n",
       "      <td>7.875</td>\n",
       "      <td>0.0</td>\n",
       "    </tr>\n",
       "    <tr>\n",
       "      <th>4</th>\n",
       "      <td>1998-01-05</td>\n",
       "      <td>13.350</td>\n",
       "      <td>0.000</td>\n",
       "      <td>0.000</td>\n",
       "      <td>0.0</td>\n",
       "      <td>0.000</td>\n",
       "      <td>0.000</td>\n",
       "      <td>0.000</td>\n",
       "      <td>2.431</td>\n",
       "      <td>1.744</td>\n",
       "      <td>1.875</td>\n",
       "      <td>12.6</td>\n",
       "    </tr>\n",
       "  </tbody>\n",
       "</table>\n",
       "</div>"
      ],
      "text/plain": [
       "        Data  Th_baciaMenor  CHIRPS  Std_CH  Mdna_CH   TRMM  Std_TR  Mdna_TR  \\\n",
       "0 1998-01-01          0.000   0.000   0.000      0.0  0.006   0.021    0.000   \n",
       "1 1998-01-02          1.168   0.566   4.107      0.0  0.000   0.000    0.000   \n",
       "2 1998-01-03         36.618   6.430  11.981      0.0  4.902   1.779    3.627   \n",
       "3 1998-01-04         18.341   0.328   3.719      0.0  0.213   0.360    0.000   \n",
       "4 1998-01-05         13.350   0.000   0.000      0.0  0.000   0.000    0.000   \n",
       "\n",
       "    MSWEP  Std_MP  Mdna_MP  Pluv_baciaMenor  \n",
       "0   0.313   0.416    0.125              0.0  \n",
       "1   6.181   2.479    5.000              0.0  \n",
       "2  18.319  14.690   10.625             44.4  \n",
       "3   8.778   4.428    7.875              0.0  \n",
       "4   2.431   1.744    1.875             12.6  "
      ]
     },
     "execution_count": 4,
     "metadata": {},
     "output_type": "execute_result"
    }
   ],
   "source": [
    "# Load the file\n",
    "b = pd.read_excel(file_path, sheet_name='BMenor_98-19', engine='openpyxl')\n",
    "#b.set_index('Data', inplace=True) \n",
    "print(\"File found and loaded.\")\n",
    "#\n",
    "b.info()\n",
    "b.head()"
   ]
  },
  {
   "cell_type": "code",
   "execution_count": 7,
   "id": "4d19868d-c8eb-440a-898e-92c631b1ca1e",
   "metadata": {},
   "outputs": [],
   "source": [
    "soma = b.resample('ME', on='Data').sum()  ### D para dias, M para meses e Y para anos"
   ]
  },
  {
   "cell_type": "markdown",
   "id": "05ce9c07-a6de-426d-ba98-75a3dd403b73",
   "metadata": {},
   "source": [
    "#### Enter the columns referring to simulated (sim) and observed (obs) data"
   ]
  },
  {
   "cell_type": "code",
   "execution_count": 10,
   "id": "0c582b4f-c4b3-44ea-b86d-9168f758ab6e",
   "metadata": {},
   "outputs": [],
   "source": [
    "obs = soma.iloc[:,0].values\n",
    "sim = soma.iloc[:,1].values"
   ]
  },
  {
   "cell_type": "markdown",
   "id": "9ab1778a-08c1-4a2d-ae7e-6c43c5982f56",
   "metadata": {},
   "source": [
    "#### Calculate and write metrics"
   ]
  },
  {
   "cell_type": "code",
   "execution_count": 14,
   "id": "eb095598-04ae-4fae-8999-6a78c1757107",
   "metadata": {},
   "outputs": [
    {
     "name": "stdout",
     "output_type": "stream",
     "text": [
      "R (Pearson Coefficient): 0.8754275198801995\n",
      "0.8754\n"
     ]
    }
   ],
   "source": [
    "r = he.pearson_r(sim, obs)\n",
    "print('R (Pearson Coefficient):',r)\n",
    "print(round(r, 4)) #sets the number of decimal places"
   ]
  },
  {
   "cell_type": "code",
   "execution_count": 16,
   "id": "a5829e27-f867-49c3-8585-7ac4fe1d08b6",
   "metadata": {},
   "outputs": [
    {
     "name": "stdout",
     "output_type": "stream",
     "text": [
      "NSE: 0.5467071223597996\n",
      "0.5467\n"
     ]
    }
   ],
   "source": [
    "nse = he.nse(sim, obs)\n",
    "print('NSE:',nse)\n",
    "print(round(nse, 4))"
   ]
  },
  {
   "cell_type": "code",
   "execution_count": 20,
   "id": "2b12d7d7-1f6d-46f5-8186-b6b2c5b14132",
   "metadata": {},
   "outputs": [
    {
     "name": "stdout",
     "output_type": "stream",
     "text": [
      "RMSE: 110.24240978234023\n",
      "110.2424\n"
     ]
    }
   ],
   "source": [
    "rmse = he.rmse(sim, obs)\n",
    "print('RMSE:',rmse)\n",
    "print(round(rmse, 4))"
   ]
  },
  {
   "cell_type": "code",
   "execution_count": 22,
   "id": "0855d26d-a859-45cd-bd33-b29cdbef86f3",
   "metadata": {},
   "outputs": [
    {
     "name": "stdout",
     "output_type": "stream",
     "text": [
      "KGE 2012 (Returns respectively r, gamma, beta, kge): (np.float64(0.8754275198801995), np.float64(0.9243389491770937), np.float64(0.6924198145031912), np.float64(0.6596348021241364))\n",
      "(np.float64(0.8754), np.float64(0.9243), np.float64(0.6924), np.float64(0.6596))\n"
     ]
    }
   ],
   "source": [
    "kge2012 = he.kge_2012(sim, obs, return_all=True)  # Returns (r, gamma, beta, kge)\n",
    "print('KGE 2012 (Returns respectively r, gamma, beta, kge):',kge2012)\n",
    "print(tuple(round(x, 4) for x in kge2012))"
   ]
  },
  {
   "cell_type": "code",
   "execution_count": 23,
   "id": "0492dc40-b0d4-4639-8f72-947454486ed2",
   "metadata": {},
   "outputs": [
    {
     "name": "stdout",
     "output_type": "stream",
     "text": [
      "PBIAS: 30.75801854968088\n",
      "30.758\n"
     ]
    }
   ],
   "source": [
    "pbias = hr.pbias(sim, obs)   \n",
    "print('PBIAS:',pbias)\n",
    "print(round(pbias, 4))"
   ]
  },
  {
   "cell_type": "code",
   "execution_count": 24,
   "id": "da8fbee8-37dd-46b6-aef7-39d95e6b138e",
   "metadata": {},
   "outputs": [
    {
     "name": "stdout",
     "output_type": "stream",
     "text": [
      "MARE: 0.3534873336498526\n",
      "0.3535\n"
     ]
    }
   ],
   "source": [
    "mare = hr.mare(sim, obs)\n",
    "print('MARE:',mare)\n",
    "print(round(mare, 4))"
   ]
  }
 ],
 "metadata": {
  "kernelspec": {
   "display_name": "Python 3 (ipykernel)",
   "language": "python",
   "name": "python3"
  },
  "language_info": {
   "codemirror_mode": {
    "name": "ipython",
    "version": 3
   },
   "file_extension": ".py",
   "mimetype": "text/x-python",
   "name": "python",
   "nbconvert_exporter": "python",
   "pygments_lexer": "ipython3",
   "version": "3.13.2"
  }
 },
 "nbformat": 4,
 "nbformat_minor": 5
}
